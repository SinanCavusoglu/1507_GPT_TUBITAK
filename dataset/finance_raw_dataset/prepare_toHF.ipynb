{
 "cells": [
  {
   "cell_type": "code",
   "execution_count": 15,
   "metadata": {},
   "outputs": [],
   "source": [
    "import os\n",
    "import pandas as pd\n",
    "from sklearn.model_selection import train_test_split"
   ]
  },
  {
   "cell_type": "markdown",
   "metadata": {},
   "source": [
    "## Read CSV"
   ]
  },
  {
   "cell_type": "code",
   "execution_count": 16,
   "metadata": {},
   "outputs": [],
   "source": [
    "aa_csv = []\n",
    "anka_csv = []\n",
    "for csv in os.listdir(\"raw_csv\"):\n",
    "    if \"aa_\" in csv:\n",
    "        aa_csv.append(csv)\n",
    "    elif \"anka_\" in csv:\n",
    "        anka_csv.append(csv)"
   ]
  },
  {
   "cell_type": "code",
   "execution_count": 17,
   "metadata": {},
   "outputs": [],
   "source": [
    "aa_df_list = [pd.read_csv(f\"raw_csv/{file}\") for file in aa_csv]\n",
    "anka_df_list = [pd.read_csv(f\"raw_csv/{file}\") for file in anka_csv]"
   ]
  },
  {
   "cell_type": "code",
   "execution_count": 18,
   "metadata": {},
   "outputs": [],
   "source": [
    "aa_df = pd.concat(aa_df_list, ignore_index=True)\n",
    "anka_df = pd.concat(anka_df_list, ignore_index=True)"
   ]
  },
  {
   "cell_type": "code",
   "execution_count": 19,
   "metadata": {},
   "outputs": [],
   "source": [
    "aa_df = aa_df.drop_duplicates()\n",
    "anka_df = anka_df.drop_duplicates() "
   ]
  },
  {
   "cell_type": "code",
   "execution_count": 20,
   "metadata": {},
   "outputs": [],
   "source": [
    "aa_df[\"All_Title\"] = aa_df[\"Başlık\"] + \". \" + aa_df[\"Alt Başlık\"]"
   ]
  },
  {
   "cell_type": "code",
   "execution_count": 21,
   "metadata": {},
   "outputs": [],
   "source": [
    "csv_list = []\n",
    "for title in aa_df.to_dict()[\"All_Title\"].values():\n",
    "    csv_list.append({\"text\": f\"{title}\", \"source\": (\"Title\",\"AA\")})\n",
    "for text in aa_df.to_dict()[\"Makale\"].values():\n",
    "    csv_list.append({\"text\": f\"{text}\", \"source\": (\"Text\", \"AA\")})"
   ]
  },
  {
   "cell_type": "code",
   "execution_count": 22,
   "metadata": {},
   "outputs": [],
   "source": [
    "for title in anka_df.to_dict()[\"Başlık\"].values():\n",
    "    csv_list.append({\"text\": f\"{title}\", \"source\": (\"Title\",\"ANKA\")})\n",
    "for text in anka_df.to_dict()[\"Makale\"].values():\n",
    "    csv_list.append({\"text\": f\"{text}\", \"source\": (\"Text\", \"ANKA\")})"
   ]
  },
  {
   "cell_type": "markdown",
   "metadata": {},
   "source": [
    "## Clear\n",
    "1) Cid\n",
    "2) non-utf8\n",
    "3) Analyze All Unique Character"
   ]
  },
  {
   "cell_type": "code",
   "execution_count": 9,
   "metadata": {},
   "outputs": [
    {
     "name": "stdout",
     "output_type": "stream",
     "text": [
      "DergiPark_TXT\n",
      "PKF_TXT\n",
      "TSBP_TXT\n",
      "YOK_TEXT\n"
     ]
    }
   ],
   "source": [
    "txt_list = []\n",
    "folder_list = os.listdir('raw_extracted')\n",
    "for folder in folder_list:\n",
    "    print(folder)\n",
    "    txt_files = os.listdir(f'raw_extracted/{folder}')\n",
    "    for txt_file in txt_files:\n",
    "        try:\n",
    "            with open(f'raw_extracted/{folder}/{txt_file}', encoding = 'utf-8') as file:\n",
    "                for txt in file.readlines():\n",
    "                    if \"cid:\" in txt:\n",
    "                        continue\n",
    "                    else:\n",
    "                        txt_list.append({'text': txt, 'source': (txt_file, folder)})\n",
    "        except UnicodeDecodeError:\n",
    "            continue"
   ]
  },
  {
   "cell_type": "code",
   "execution_count": 23,
   "metadata": {
    "scrolled": true
   },
   "outputs": [],
   "source": [
    "all_txt = txt_list + csv_list "
   ]
  },
  {
   "cell_type": "code",
   "execution_count": 24,
   "metadata": {},
   "outputs": [
    {
     "data": {
      "text/plain": [
       "3534327"
      ]
     },
     "execution_count": 24,
     "metadata": {},
     "output_type": "execute_result"
    }
   ],
   "source": [
    "len(all_txt)"
   ]
  },
  {
   "cell_type": "code",
   "execution_count": 25,
   "metadata": {},
   "outputs": [],
   "source": [
    "max_len = 2000\n",
    "\n",
    "def split_text(text, max_len):\n",
    "    return [text[i:i + max_len] for i in range(0, len(text), max_len)]\n",
    "\n",
    "all_txt_split = []\n",
    "\n",
    "for entry in all_txt:\n",
    "    if len(entry['text']) > max_len:\n",
    "        split_parts = split_text(entry['text'], max_len)\n",
    "        for part in split_parts:\n",
    "            all_txt_split.append({'text': part, 'source': entry['source']})\n",
    "    else:\n",
    "        all_txt_split.append(entry)\n",
    "\n",
    "\n"
   ]
  },
  {
   "cell_type": "code",
   "execution_count": 26,
   "metadata": {},
   "outputs": [
    {
     "data": {
      "text/plain": [
       "5780871"
      ]
     },
     "execution_count": 26,
     "metadata": {},
     "output_type": "execute_result"
    }
   ],
   "source": [
    "len(all_txt_split)"
   ]
  },
  {
   "cell_type": "code",
   "execution_count": 27,
   "metadata": {},
   "outputs": [],
   "source": [
    "def clean_string(input_string):\n",
    "    allowed_chars = set([\n",
    "        'A', 'a', 'B', 'b', 'C', 'c', 'Ç', 'ç', 'D', 'd', 'E', 'e', 'F', 'f', 'G', 'g',\n",
    "        'Ğ', 'ğ', 'H', 'h', 'I', 'ı', 'İ', 'i', 'J', 'j', 'K', 'k', 'L', 'l', 'M', 'm',\n",
    "        'N', 'n', 'O', 'o', 'Ö', 'ö', 'P', 'p', 'R', 'r', 'S', 's', 'Ş', 'ş', 'T', 't',\n",
    "        'U', 'u', 'Ü', 'ü', 'V', 'v', 'Y', 'y', 'Z', 'z',\n",
    "        '0', '1', '2', '3', '4', '5', '6', '7', '8', '9',\n",
    "        '.', ',', ':', ';', '!', '?', '\"', \"'\", '-', '—', '(', ')', '[', ']', '{', '}',\n",
    "        '/', '\\\\', '*', '%', '@', '#', '$', '&', '^', '|', '~', ' ',\n",
    "        '+', '=', '<', '>'\n",
    "    ])\n",
    "\n",
    "    return ''.join(filter(allowed_chars.__contains__, input_string))\n"
   ]
  },
  {
   "cell_type": "code",
   "execution_count": 28,
   "metadata": {},
   "outputs": [],
   "source": [
    "for index in range(len(txt_list)):\n",
    "    all_txt_split[index][\"text\"] = clean_string(txt_list[index][\"text\"])"
   ]
  },
  {
   "cell_type": "code",
   "execution_count": 29,
   "metadata": {},
   "outputs": [],
   "source": [
    "df = pd.DataFrame(all_txt_split)\n",
    "#df.to_csv(\"dataset_law.csv\")"
   ]
  },
  {
   "cell_type": "code",
   "execution_count": 30,
   "metadata": {},
   "outputs": [],
   "source": [
    "# Train Test Split\n",
    "train, val = train_test_split(df, test_size = 0.010, random_state=42)"
   ]
  },
  {
   "cell_type": "markdown",
   "metadata": {},
   "source": [
    "# Save in parquet for less memory"
   ]
  },
  {
   "cell_type": "code",
   "execution_count": null,
   "metadata": {},
   "outputs": [],
   "source": [
    "df.to_parquet(\"dataset_finance.parquet\",\n",
    "              engine = \"pyarrow\",\n",
    "              compression=\"snappy\",\n",
    "              index = False)"
   ]
  },
  {
   "cell_type": "code",
   "execution_count": null,
   "metadata": {},
   "outputs": [],
   "source": [
    "train.to_parquet(\"train_finance.parquet\",\n",
    "              engine = \"pyarrow\",\n",
    "              compression=\"snappy\",\n",
    "              index = False)"
   ]
  },
  {
   "cell_type": "code",
   "execution_count": null,
   "metadata": {},
   "outputs": [],
   "source": [
    "val.to_parquet(\"val_finance.parquet\",\n",
    "              engine = \"pyarrow\",\n",
    "              compression=\"snappy\",\n",
    "              index = False)"
   ]
  },
  {
   "cell_type": "code",
   "execution_count": null,
   "metadata": {},
   "outputs": [],
   "source": []
  }
 ],
 "metadata": {
  "kernelspec": {
   "display_name": "Python 3 (ipykernel)",
   "language": "python",
   "name": "python3"
  },
  "language_info": {
   "codemirror_mode": {
    "name": "ipython",
    "version": 3
   },
   "file_extension": ".py",
   "mimetype": "text/x-python",
   "name": "python",
   "nbconvert_exporter": "python",
   "pygments_lexer": "ipython3",
   "version": "3.9.19"
  }
 },
 "nbformat": 4,
 "nbformat_minor": 4
}
