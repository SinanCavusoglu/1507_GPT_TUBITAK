{
 "cells": [
  {
   "cell_type": "code",
   "execution_count": 1,
   "id": "0c30c37d-2d7e-429e-b8ac-a257bf464939",
   "metadata": {},
   "outputs": [],
   "source": [
    "import os\n",
    "import pandas as pd\n",
    "\n",
    "pd.set_option('display.max_rows', None)\n",
    "pd.set_option(\"max_colwidth\", None)"
   ]
  },
  {
   "cell_type": "code",
   "execution_count": 2,
   "id": "bc212446-5ca1-4aee-a48d-ae3ad699d13f",
   "metadata": {},
   "outputs": [],
   "source": [
    "# DergiPark "
   ]
  },
  {
   "cell_type": "code",
   "execution_count": 3,
   "id": "dd7d2a08-599d-4b9b-85b7-95457e78b336",
   "metadata": {},
   "outputs": [],
   "source": [
    "df_dict = {}\n",
    "folder_names = os.listdir(\"DergiPark/dataset_csv\")\n",
    "\n",
    "for folder in folder_names:\n",
    "    df_dict[folder] = pd.read_csv(f\"DergiPark/dataset_csv/{folder}/{folder}_all.csv\")\n",
    "\n",
    "DP_all = pd.concat(df_dict.values())"
   ]
  },
  {
   "cell_type": "code",
   "execution_count": 4,
   "id": "f8770dca-be24-4153-942b-2b974dd35fa0",
   "metadata": {},
   "outputs": [
    {
     "name": "stdout",
     "output_type": "stream",
     "text": [
      "<class 'pandas.core.frame.DataFrame'>\n",
      "Index: 21020 entries, 0 to 48\n",
      "Data columns (total 6 columns):\n",
      " #   Column           Non-Null Count  Dtype \n",
      "---  ------           --------------  ----- \n",
      " 0   Page_Number      21020 non-null  int64 \n",
      " 1   Searching        21020 non-null  object\n",
      " 2   Article_Name     21020 non-null  object\n",
      " 3   Article_Journal  20993 non-null  object\n",
      " 4   Article_Volume   20940 non-null  object\n",
      " 5   Article_PDF_URL  20916 non-null  object\n",
      "dtypes: int64(1), object(5)\n",
      "memory usage: 1.1+ MB\n"
     ]
    }
   ],
   "source": [
    "DP_all.info()"
   ]
  },
  {
   "cell_type": "code",
   "execution_count": 5,
   "id": "771c0999-953e-4782-b3fe-a0a823f339bb",
   "metadata": {},
   "outputs": [],
   "source": [
    "# Drop null values (in PDF)"
   ]
  },
  {
   "cell_type": "code",
   "execution_count": 6,
   "id": "121a30f0-0fc9-4740-b457-7e1fd42fe145",
   "metadata": {},
   "outputs": [],
   "source": [
    "DP_all = DP_all.dropna(subset = [\"Article_PDF_URL\"])\n",
    "DP_all.reset_index(drop = True,inplace = True)"
   ]
  },
  {
   "cell_type": "code",
   "execution_count": 7,
   "id": "ced35566-b2c4-443f-804f-daafddf7e60f",
   "metadata": {},
   "outputs": [
    {
     "data": {
      "text/html": [
       "<div>\n",
       "<style scoped>\n",
       "    .dataframe tbody tr th:only-of-type {\n",
       "        vertical-align: middle;\n",
       "    }\n",
       "\n",
       "    .dataframe tbody tr th {\n",
       "        vertical-align: top;\n",
       "    }\n",
       "\n",
       "    .dataframe thead th {\n",
       "        text-align: right;\n",
       "    }\n",
       "</style>\n",
       "<table border=\"1\" class=\"dataframe\">\n",
       "  <thead>\n",
       "    <tr style=\"text-align: right;\">\n",
       "      <th></th>\n",
       "      <th>Page_Number</th>\n",
       "      <th>Searching</th>\n",
       "      <th>Article_Name</th>\n",
       "      <th>Article_Journal</th>\n",
       "      <th>Article_Volume</th>\n",
       "      <th>Article_PDF_URL</th>\n",
       "    </tr>\n",
       "  </thead>\n",
       "  <tbody>\n",
       "    <tr>\n",
       "      <th>5743</th>\n",
       "      <td>25</td>\n",
       "      <td>Hak</td>\n",
       "      <td>Vatandaşların Anayasal Hak ve Özgürlüklerinin Korunmasında Belarus Anayasa Mahkemesi’nin Rolü</td>\n",
       "      <td>Anayasa Yargısı</td>\n",
       "      <td>Cilt: 28 Sayı: 1</td>\n",
       "      <td>https://dergipark.org.tr/tr/download/article-file/939410</td>\n",
       "    </tr>\n",
       "  </tbody>\n",
       "</table>\n",
       "</div>"
      ],
      "text/plain": [
       "      Page_Number Searching  \\\n",
       "5743           25       Hak   \n",
       "\n",
       "                                                                                       Article_Name  \\\n",
       "5743  Vatandaşların Anayasal Hak ve Özgürlüklerinin Korunmasında Belarus Anayasa Mahkemesi’nin Rolü   \n",
       "\n",
       "      Article_Journal    Article_Volume  \\\n",
       "5743  Anayasa Yargısı  Cilt: 28 Sayı: 1   \n",
       "\n",
       "                                               Article_PDF_URL  \n",
       "5743  https://dergipark.org.tr/tr/download/article-file/939410  "
      ]
     },
     "execution_count": 7,
     "metadata": {},
     "output_type": "execute_result"
    }
   ],
   "source": [
    "DP_all.sample(1)"
   ]
  },
  {
   "cell_type": "code",
   "execution_count": 8,
   "id": "d8139b52-e871-469c-8e1e-3d7794a798e5",
   "metadata": {},
   "outputs": [],
   "source": [
    "# Drop duplicated (in PDF)"
   ]
  },
  {
   "cell_type": "code",
   "execution_count": 9,
   "id": "78af2cfb-7d52-4256-b8f1-2b77b262d1d0",
   "metadata": {},
   "outputs": [
    {
     "data": {
      "text/plain": [
       "4254"
      ]
     },
     "execution_count": 9,
     "metadata": {},
     "output_type": "execute_result"
    }
   ],
   "source": [
    "DP_all.duplicated(subset = [\"Article_PDF_URL\"]).sum()"
   ]
  },
  {
   "cell_type": "code",
   "execution_count": 10,
   "id": "49531637-91b9-4ba0-b8aa-0b144f1a5b3d",
   "metadata": {},
   "outputs": [],
   "source": [
    "DP_all.drop_duplicates(subset = [\"Article_PDF_URL\"], inplace=True)\n",
    "DP_all.reset_index(drop = True,inplace = True)"
   ]
  },
  {
   "cell_type": "code",
   "execution_count": 11,
   "id": "a4520fae-e35b-42c1-9b5c-8f5f6d8dc237",
   "metadata": {},
   "outputs": [
    {
     "name": "stdout",
     "output_type": "stream",
     "text": [
      "<class 'pandas.core.frame.DataFrame'>\n",
      "RangeIndex: 16662 entries, 0 to 16661\n",
      "Data columns (total 6 columns):\n",
      " #   Column           Non-Null Count  Dtype \n",
      "---  ------           --------------  ----- \n",
      " 0   Page_Number      16662 non-null  int64 \n",
      " 1   Searching        16662 non-null  object\n",
      " 2   Article_Name     16662 non-null  object\n",
      " 3   Article_Journal  16662 non-null  object\n",
      " 4   Article_Volume   16611 non-null  object\n",
      " 5   Article_PDF_URL  16662 non-null  object\n",
      "dtypes: int64(1), object(5)\n",
      "memory usage: 781.2+ KB\n"
     ]
    }
   ],
   "source": [
    "DP_all.info()"
   ]
  },
  {
   "cell_type": "code",
   "execution_count": 12,
   "id": "23e33133-8e70-4836-9d18-cbbe4958b708",
   "metadata": {},
   "outputs": [],
   "source": [
    "DP_vCount = DP_all.Article_Journal.value_counts()"
   ]
  },
  {
   "cell_type": "code",
   "execution_count": 13,
   "id": "78a980e0-ce92-447c-8c68-fe9329b888a5",
   "metadata": {
    "scrolled": true
   },
   "outputs": [
    {
     "data": {
      "text/plain": [
       "Article_Journal\n",
       "İstanbul Üniversitesi Hukuk Fakültesi Mecmuası                      1066\n",
       "Marmara Üniversitesi Hukuk Fakültesi Hukuk Araştırmaları Dergisi     897\n",
       "Ankara Hacı Bayram Veli Üniversitesi Hukuk Fakültesi Dergisi         770\n",
       "Milletlerarası Hukuk ve Milletlerarası Özel Hukuk Bülteni            703\n",
       "Ankara Üniversitesi Hukuk Fakültesi Dergisi                          669\n",
       "Name: count, dtype: int64"
      ]
     },
     "execution_count": 13,
     "metadata": {},
     "output_type": "execute_result"
    }
   ],
   "source": [
    "DP_vCount.head()"
   ]
  },
  {
   "cell_type": "code",
   "execution_count": 14,
   "id": "d347affa-7055-42fa-bd02-b6e05ef13929",
   "metadata": {},
   "outputs": [],
   "source": [
    "total = 0\n",
    "for i in range(1,5):\n",
    "    total += (i*len(DP_vCount[DP_vCount == i]))"
   ]
  },
  {
   "cell_type": "code",
   "execution_count": 15,
   "id": "c681ee50-8612-4059-86fc-cf5d135215d7",
   "metadata": {},
   "outputs": [
    {
     "data": {
      "text/plain": [
       "1716"
      ]
     },
     "execution_count": 15,
     "metadata": {},
     "output_type": "execute_result"
    }
   ],
   "source": [
    "total"
   ]
  },
  {
   "cell_type": "code",
   "execution_count": 16,
   "id": "99efb6aa-75c4-4ca5-8d84-bf5f07594512",
   "metadata": {},
   "outputs": [],
   "source": [
    "drop_less = DP_vCount[DP_vCount < 5].index"
   ]
  },
  {
   "cell_type": "code",
   "execution_count": 17,
   "id": "d38b169f-f779-4118-a8ae-12d7128d739d",
   "metadata": {},
   "outputs": [],
   "source": [
    "DP_cleared = DP_all[~DP_all[\"Article_Journal\"].isin(drop_less)]"
   ]
  },
  {
   "cell_type": "code",
   "execution_count": 18,
   "id": "a23b80b7-d542-47c5-89e3-8bc8874e22bd",
   "metadata": {},
   "outputs": [
    {
     "name": "stdout",
     "output_type": "stream",
     "text": [
      "<class 'pandas.core.frame.DataFrame'>\n",
      "Index: 14946 entries, 0 to 16661\n",
      "Data columns (total 6 columns):\n",
      " #   Column           Non-Null Count  Dtype \n",
      "---  ------           --------------  ----- \n",
      " 0   Page_Number      14946 non-null  int64 \n",
      " 1   Searching        14946 non-null  object\n",
      " 2   Article_Name     14946 non-null  object\n",
      " 3   Article_Journal  14946 non-null  object\n",
      " 4   Article_Volume   14903 non-null  object\n",
      " 5   Article_PDF_URL  14946 non-null  object\n",
      "dtypes: int64(1), object(5)\n",
      "memory usage: 817.4+ KB\n"
     ]
    }
   ],
   "source": [
    "DP_cleared.info()"
   ]
  },
  {
   "cell_type": "code",
   "execution_count": 19,
   "id": "32ac2cb6-5ec3-4adf-8968-2fb3c31289a1",
   "metadata": {},
   "outputs": [
    {
     "name": "stderr",
     "output_type": "stream",
     "text": [
      "C:\\Users\\siren\\AppData\\Local\\Temp\\ipykernel_16080\\66031351.py:1: SettingWithCopyWarning: \n",
      "A value is trying to be set on a copy of a slice from a DataFrame.\n",
      "Try using .loc[row_indexer,col_indexer] = value instead\n",
      "\n",
      "See the caveats in the documentation: https://pandas.pydata.org/pandas-docs/stable/user_guide/indexing.html#returning-a-view-versus-a-copy\n",
      "  DP_cleared[\"Source\"] = \"DergiPark\"\n"
     ]
    }
   ],
   "source": [
    "DP_cleared[\"Source\"] = \"DergiPark\""
   ]
  },
  {
   "cell_type": "code",
   "execution_count": 20,
   "id": "094aa029-08dd-484a-918c-5c4c3eda5aed",
   "metadata": {},
   "outputs": [
    {
     "data": {
      "text/html": [
       "<div>\n",
       "<style scoped>\n",
       "    .dataframe tbody tr th:only-of-type {\n",
       "        vertical-align: middle;\n",
       "    }\n",
       "\n",
       "    .dataframe tbody tr th {\n",
       "        vertical-align: top;\n",
       "    }\n",
       "\n",
       "    .dataframe thead th {\n",
       "        text-align: right;\n",
       "    }\n",
       "</style>\n",
       "<table border=\"1\" class=\"dataframe\">\n",
       "  <thead>\n",
       "    <tr style=\"text-align: right;\">\n",
       "      <th></th>\n",
       "      <th>Page_Number</th>\n",
       "      <th>Searching</th>\n",
       "      <th>Article_Name</th>\n",
       "      <th>Article_Journal</th>\n",
       "      <th>Article_Volume</th>\n",
       "      <th>Article_PDF_URL</th>\n",
       "      <th>Source</th>\n",
       "    </tr>\n",
       "  </thead>\n",
       "  <tbody>\n",
       "    <tr>\n",
       "      <th>12929</th>\n",
       "      <td>393</td>\n",
       "      <td>Hukuk</td>\n",
       "      <td>Tasarruf Finansman Sözleşmesi</td>\n",
       "      <td>Necmettin Erbakan Üniversitesi Hukuk Fakültesi Dergisi</td>\n",
       "      <td>Cilt: 4 Sayı: 2</td>\n",
       "      <td>https://dergipark.org.tr/tr/download/article-file/1769674</td>\n",
       "      <td>DergiPark</td>\n",
       "    </tr>\n",
       "    <tr>\n",
       "      <th>7857</th>\n",
       "      <td>152</td>\n",
       "      <td>Hukuk</td>\n",
       "      <td>Yüklenicinin Eserde Meydana Gelen Ayıplardan Sorumlu Olmadığı Haller</td>\n",
       "      <td>Maltepe Üniversitesi Hukuk Fakültesi Dergisi</td>\n",
       "      <td>Sayı: 2</td>\n",
       "      <td>https://dergipark.org.tr/tr/download/article-file/2857372</td>\n",
       "      <td>DergiPark</td>\n",
       "    </tr>\n",
       "    <tr>\n",
       "      <th>1955</th>\n",
       "      <td>82</td>\n",
       "      <td>Adalet</td>\n",
       "      <td>‘Doğu Sorunu’ ve ‘Sosyal Adalet:’ Talebi Bağlamında Alman Radikal Solu ve PDS (1990-2007)</td>\n",
       "      <td>Ankara Üniversitesi SBF Dergisi</td>\n",
       "      <td>Cilt: 76 Sayı: 1</td>\n",
       "      <td>https://dergipark.org.tr/tr/download/article-file/1157596</td>\n",
       "      <td>DergiPark</td>\n",
       "    </tr>\n",
       "    <tr>\n",
       "      <th>9696</th>\n",
       "      <td>239</td>\n",
       "      <td>Hukuk</td>\n",
       "      <td>Bağlılık Kuralı Kapsamında Nitelikli Hallerin Suç Ortaklarına Etkisi</td>\n",
       "      <td>İstanbul Medeniyet Üniversitesi Hukuk Fakültesi Dergisi</td>\n",
       "      <td>Cilt: 8 Sayı: 2</td>\n",
       "      <td>https://dergipark.org.tr/tr/download/article-file/3397882</td>\n",
       "      <td>DergiPark</td>\n",
       "    </tr>\n",
       "    <tr>\n",
       "      <th>5159</th>\n",
       "      <td>26</td>\n",
       "      <td>Hukuk</td>\n",
       "      <td>TÜRK HUKUKUNDA İSNADIN İSPATI HAKKININ ÇOK BOYUTLU HUKUK KAVRAYIŞI BAKIMINDAN ANALİZİ</td>\n",
       "      <td>İstanbul Üniversitesi Hukuk Fakültesi Mecmuası</td>\n",
       "      <td>Cilt: 72 Sayı: 1</td>\n",
       "      <td>https://dergipark.org.tr/tr/download/article-file/97893</td>\n",
       "      <td>DergiPark</td>\n",
       "    </tr>\n",
       "    <tr>\n",
       "      <th>12870</th>\n",
       "      <td>390</td>\n",
       "      <td>Hukuk</td>\n",
       "      <td>AVRUPA VATANDAŞLIK SÖZLEŞMESİ VE\\r\\nKKTC YURTTAŞLIK HUKUKUNDA\\r\\nYURTTAŞLIĞIN KAYBI</td>\n",
       "      <td>Dokuz Eylül Üniversitesi Hukuk Fakültesi Dergisi</td>\n",
       "      <td>Cilt: 19 Sayı: 1</td>\n",
       "      <td>https://dergipark.org.tr/tr/download/article-file/753615</td>\n",
       "      <td>DergiPark</td>\n",
       "    </tr>\n",
       "    <tr>\n",
       "      <th>10229</th>\n",
       "      <td>265</td>\n",
       "      <td>Hukuk</td>\n",
       "      <td>Anonim Şirketlerde Tek Pay Sahibinin Genel Kurulu  Toplantıya Çağrı Yetkisi (TTK m. 410/II)</td>\n",
       "      <td>Ankara Hacı Bayram Veli Üniversitesi Hukuk Fakültesi Dergisi</td>\n",
       "      <td>Cilt: 19 Sayı: 4</td>\n",
       "      <td>https://dergipark.org.tr/tr/download/article-file/789042</td>\n",
       "      <td>DergiPark</td>\n",
       "    </tr>\n",
       "    <tr>\n",
       "      <th>2377</th>\n",
       "      <td>15</td>\n",
       "      <td>Anayasa</td>\n",
       "      <td>BİR KLASİK ESER OLARAK CARL SCHMİTT’İN “ANAYASA ÖĞRETİSİ\"</td>\n",
       "      <td>İstanbul Üniversitesi Hukuk Fakültesi Mecmuası</td>\n",
       "      <td>Cilt: 73 Sayı: 1</td>\n",
       "      <td>https://dergipark.org.tr/tr/download/article-file/230778</td>\n",
       "      <td>DergiPark</td>\n",
       "    </tr>\n",
       "    <tr>\n",
       "      <th>12960</th>\n",
       "      <td>394</td>\n",
       "      <td>Hukuk</td>\n",
       "      <td>H2000/43, 2000/78, 2006/54 SAYILI AB DİREKTİFLERİ ÇERÇEVESİNDE İŞ HUKUKUNDA AYRIMCILIKLA MÜCADELE VE TÜRKİYE’DEKİ UYGULAMALAR</td>\n",
       "      <td>Dokuz Eylül Üniversitesi Hukuk Fakültesi Dergisi</td>\n",
       "      <td>Cilt: 15 Özel Sayı</td>\n",
       "      <td>https://dergipark.org.tr/tr/download/article-file/756544</td>\n",
       "      <td>DergiPark</td>\n",
       "    </tr>\n",
       "    <tr>\n",
       "      <th>11910</th>\n",
       "      <td>345</td>\n",
       "      <td>Hukuk</td>\n",
       "      <td>Sözleşmenin Niteliğine ve İşin Özelliğine Yabancı Olan Genel İşlem Koşulları (6089 sayılı Tbk.M.21/2)</td>\n",
       "      <td>İnönü Üniversitesi Hukuk Fakültesi Dergisi</td>\n",
       "      <td>Cilt: 3 Sayı: 1</td>\n",
       "      <td>https://dergipark.org.tr/tr/download/article-file/208406</td>\n",
       "      <td>DergiPark</td>\n",
       "    </tr>\n",
       "  </tbody>\n",
       "</table>\n",
       "</div>"
      ],
      "text/plain": [
       "       Page_Number Searching  \\\n",
       "12929          393     Hukuk   \n",
       "7857           152     Hukuk   \n",
       "1955            82    Adalet   \n",
       "9696           239     Hukuk   \n",
       "5159            26     Hukuk   \n",
       "12870          390     Hukuk   \n",
       "10229          265     Hukuk   \n",
       "2377            15   Anayasa   \n",
       "12960          394     Hukuk   \n",
       "11910          345     Hukuk   \n",
       "\n",
       "                                                                                                                        Article_Name  \\\n",
       "12929                                                                                                  Tasarruf Finansman Sözleşmesi   \n",
       "7857                                                            Yüklenicinin Eserde Meydana Gelen Ayıplardan Sorumlu Olmadığı Haller   \n",
       "1955                                       ‘Doğu Sorunu’ ve ‘Sosyal Adalet:’ Talebi Bağlamında Alman Radikal Solu ve PDS (1990-2007)   \n",
       "9696                                                            Bağlılık Kuralı Kapsamında Nitelikli Hallerin Suç Ortaklarına Etkisi   \n",
       "5159                                           TÜRK HUKUKUNDA İSNADIN İSPATI HAKKININ ÇOK BOYUTLU HUKUK KAVRAYIŞI BAKIMINDAN ANALİZİ   \n",
       "12870                                            AVRUPA VATANDAŞLIK SÖZLEŞMESİ VE\\r\\nKKTC YURTTAŞLIK HUKUKUNDA\\r\\nYURTTAŞLIĞIN KAYBI   \n",
       "10229                                    Anonim Şirketlerde Tek Pay Sahibinin Genel Kurulu  Toplantıya Çağrı Yetkisi (TTK m. 410/II)   \n",
       "2377                                                                       BİR KLASİK ESER OLARAK CARL SCHMİTT’İN “ANAYASA ÖĞRETİSİ\"   \n",
       "12960  H2000/43, 2000/78, 2006/54 SAYILI AB DİREKTİFLERİ ÇERÇEVESİNDE İŞ HUKUKUNDA AYRIMCILIKLA MÜCADELE VE TÜRKİYE’DEKİ UYGULAMALAR   \n",
       "11910                          Sözleşmenin Niteliğine ve İşin Özelliğine Yabancı Olan Genel İşlem Koşulları (6089 sayılı Tbk.M.21/2)   \n",
       "\n",
       "                                                    Article_Journal  \\\n",
       "12929        Necmettin Erbakan Üniversitesi Hukuk Fakültesi Dergisi   \n",
       "7857                   Maltepe Üniversitesi Hukuk Fakültesi Dergisi   \n",
       "1955                                Ankara Üniversitesi SBF Dergisi   \n",
       "9696        İstanbul Medeniyet Üniversitesi Hukuk Fakültesi Dergisi   \n",
       "5159                 İstanbul Üniversitesi Hukuk Fakültesi Mecmuası   \n",
       "12870              Dokuz Eylül Üniversitesi Hukuk Fakültesi Dergisi   \n",
       "10229  Ankara Hacı Bayram Veli Üniversitesi Hukuk Fakültesi Dergisi   \n",
       "2377                 İstanbul Üniversitesi Hukuk Fakültesi Mecmuası   \n",
       "12960              Dokuz Eylül Üniversitesi Hukuk Fakültesi Dergisi   \n",
       "11910                    İnönü Üniversitesi Hukuk Fakültesi Dergisi   \n",
       "\n",
       "           Article_Volume  \\\n",
       "12929     Cilt: 4 Sayı: 2   \n",
       "7857              Sayı: 2   \n",
       "1955     Cilt: 76 Sayı: 1   \n",
       "9696      Cilt: 8 Sayı: 2   \n",
       "5159     Cilt: 72 Sayı: 1   \n",
       "12870    Cilt: 19 Sayı: 1   \n",
       "10229    Cilt: 19 Sayı: 4   \n",
       "2377     Cilt: 73 Sayı: 1   \n",
       "12960  Cilt: 15 Özel Sayı   \n",
       "11910     Cilt: 3 Sayı: 1   \n",
       "\n",
       "                                                 Article_PDF_URL     Source  \n",
       "12929  https://dergipark.org.tr/tr/download/article-file/1769674  DergiPark  \n",
       "7857   https://dergipark.org.tr/tr/download/article-file/2857372  DergiPark  \n",
       "1955   https://dergipark.org.tr/tr/download/article-file/1157596  DergiPark  \n",
       "9696   https://dergipark.org.tr/tr/download/article-file/3397882  DergiPark  \n",
       "5159     https://dergipark.org.tr/tr/download/article-file/97893  DergiPark  \n",
       "12870   https://dergipark.org.tr/tr/download/article-file/753615  DergiPark  \n",
       "10229   https://dergipark.org.tr/tr/download/article-file/789042  DergiPark  \n",
       "2377    https://dergipark.org.tr/tr/download/article-file/230778  DergiPark  \n",
       "12960   https://dergipark.org.tr/tr/download/article-file/756544  DergiPark  \n",
       "11910   https://dergipark.org.tr/tr/download/article-file/208406  DergiPark  "
      ]
     },
     "execution_count": 20,
     "metadata": {},
     "output_type": "execute_result"
    }
   ],
   "source": [
    "DP_cleared.sample(10)"
   ]
  },
  {
   "cell_type": "code",
   "execution_count": 21,
   "id": "bdff544e-9782-4b11-b5d9-4c8c23233b57",
   "metadata": {},
   "outputs": [],
   "source": [
    "# TRDizin"
   ]
  },
  {
   "cell_type": "code",
   "execution_count": 22,
   "id": "549aee4b-ad12-4238-9e8a-43b17fdaef71",
   "metadata": {},
   "outputs": [],
   "source": [
    "TRDizin_all = pd.read_csv(\"TRDizin/dataset/dataset_csv.csv\")"
   ]
  },
  {
   "cell_type": "code",
   "execution_count": 23,
   "id": "51da4c58-fc87-46da-b5e2-6f7e8af5a8ea",
   "metadata": {},
   "outputs": [
    {
     "data": {
      "text/html": [
       "<div>\n",
       "<style scoped>\n",
       "    .dataframe tbody tr th:only-of-type {\n",
       "        vertical-align: middle;\n",
       "    }\n",
       "\n",
       "    .dataframe tbody tr th {\n",
       "        vertical-align: top;\n",
       "    }\n",
       "\n",
       "    .dataframe thead th {\n",
       "        text-align: right;\n",
       "    }\n",
       "</style>\n",
       "<table border=\"1\" class=\"dataframe\">\n",
       "  <thead>\n",
       "    <tr style=\"text-align: right;\">\n",
       "      <th></th>\n",
       "      <th>Page_Number</th>\n",
       "      <th>Article_Name</th>\n",
       "      <th>Article_Journal</th>\n",
       "      <th>Article_PDF_URL</th>\n",
       "      <th>Article_Detail</th>\n",
       "    </tr>\n",
       "  </thead>\n",
       "  <tbody>\n",
       "    <tr>\n",
       "      <th>2724</th>\n",
       "      <td>28</td>\n",
       "      <td>BANGLADEŞMYANMAR DENİZ ALANLARININ SINIRLANDIRILMASI DAVASI IŞIĞINDA ULUSLARARASI DENİZ HUKUKU MAHKEMESİ'NİN KURULUŞUNA İLİŞKİN BİR DEĞERLENDİRME</td>\n",
       "      <td>Ankara Üniversitesi Hukuk Fakültesi Dergisi</td>\n",
       "      <td>&lt;a class=\"me-4\" href=\"javascript:openPDF('fc988d07-84d8-4815-a99a-bbabd99dd9d1', '184328');\"&gt; &lt;i class=\"far fa-file me-2\"&gt;&lt;/i&gt;Full Text &lt;/a&gt;</td>\n",
       "      <td>https://search.trdizin.gov.tr/en/yayin/detay/184328/bangladesmyanmar-deniz-alanlarinin-sinirlandirilmasi-davasi-isiginda-uluslararasi-deniz-hukuku-mahkemesinin-kurulusuna-iliskin-bir-degerlendirme</td>\n",
       "    </tr>\n",
       "    <tr>\n",
       "      <th>2101</th>\n",
       "      <td>22</td>\n",
       "      <td>İDARİ YARGILAMA HUKUKUNDA MAHKEME KARARLARININ AÇIKLANMASI</td>\n",
       "      <td>Selçuk Üniversitesi Hukuk Fakültesi Dergisi</td>\n",
       "      <td>&lt;a class=\"me-4\" href=\"javascript:openPDF('2e65d56d-8089-403a-b719-6316644c0951', '279722');\"&gt; &lt;i class=\"far fa-file me-2\"&gt;&lt;/i&gt;Full Text &lt;/a&gt;</td>\n",
       "      <td>https://search.trdizin.gov.tr/en/yayin/detay/279722/idari-yargilama-hukukunda-mahkeme-kararlarinin-aciklanmasi</td>\n",
       "    </tr>\n",
       "    <tr>\n",
       "      <th>2785</th>\n",
       "      <td>28</td>\n",
       "      <td>TÜRK BORÇLAR KANUNU VE OLE LANDO İLKELERİ'NDE SÖZLEŞMENİN DEVRİ</td>\n",
       "      <td>İnönü Üniversitesi Hukuk Fakültesi Dergisi</td>\n",
       "      <td>&lt;a class=\"me-4\" href=\"javascript:openPDF('ba7eaaa9-7013-4739-afab-3823f3664f9e', '240688');\"&gt; &lt;i class=\"far fa-file me-2\"&gt;&lt;/i&gt;Full Text &lt;/a&gt;</td>\n",
       "      <td>https://search.trdizin.gov.tr/en/yayin/detay/240688/turk-borclar-kanunu-ve-ole-lando-ilkelerinde-sozlesmenin-devri</td>\n",
       "    </tr>\n",
       "    <tr>\n",
       "      <th>2963</th>\n",
       "      <td>30</td>\n",
       "      <td>AB vatandaşlığının ab içerisinde serbest dolaşım ve ikamet hakkı yönünden temel statü olması</td>\n",
       "      <td>Türkiye Adalet Akademisi Dergisi</td>\n",
       "      <td>&lt;a class=\"me-4\" href=\"javascript:openPDF('bd5fddee-4692-457f-b4f1-0b62ac4c2f42', '158786');\"&gt; &lt;i class=\"far fa-file me-2\"&gt;&lt;/i&gt;Full Text &lt;/a&gt;</td>\n",
       "      <td>https://search.trdizin.gov.tr/en/yayin/detay/158786/ab-vatandasliginin-ab-icerisinde-serbest-dolasim-ve-ikamet-hakki-yonunden-temel-statu-olmasi</td>\n",
       "    </tr>\n",
       "    <tr>\n",
       "      <th>2725</th>\n",
       "      <td>28</td>\n",
       "      <td>KARDEŞLER ARASINDA NAFAKA YÜKÜMLÜLÜĞÜ</td>\n",
       "      <td>Ankara Üniversitesi Hukuk Fakültesi Dergisi</td>\n",
       "      <td>&lt;a class=\"me-4\" href=\"javascript:openPDF('ccec7ade-39a5-4ca0-9af9-ce41aa8e2d33', '184290');\"&gt; &lt;i class=\"far fa-file me-2\"&gt;&lt;/i&gt;Full Text &lt;/a&gt;</td>\n",
       "      <td>https://search.trdizin.gov.tr/en/yayin/detay/184290/kardesler-arasinda-nafaka-yukumlulugu</td>\n",
       "    </tr>\n",
       "    <tr>\n",
       "      <th>857</th>\n",
       "      <td>9</td>\n",
       "      <td>TÜRK İDARİ YARGI SİSTEMİNDE DAVALARIN\\rBİRLEŞTİRİLMESİ USULÜ ÜZERİNE BİR İNCELEME</td>\n",
       "      <td>Akdeniz Üniversitesi Hukuk Fakültesi Dergisi</td>\n",
       "      <td>&lt;a class=\"me-4\" href=\"javascript:openPDF('c0480984-a3f4-4423-a9ce-59838cc41573', '509855');\"&gt; &lt;i class=\"far fa-file me-2\"&gt;&lt;/i&gt;Full Text &lt;/a&gt;</td>\n",
       "      <td>https://search.trdizin.gov.tr/en/yayin/detay/509855/turk-idari-yargi-sisteminde-davalarin-birlestirilmesi-usulu-uzerine-bir-inceleme</td>\n",
       "    </tr>\n",
       "    <tr>\n",
       "      <th>349</th>\n",
       "      <td>4</td>\n",
       "      <td>KONUT VE ÇATILI İŞYERİ KİRALARINDA KİRA BEDELİNDE ARTIŞA İLİŞKİN 7161 SAYILI KANUN’LA GETİRİLEN DEĞİŞİKLİKLERİN DEĞERLENDİRİLMESİ</td>\n",
       "      <td>SÜLEYMAN DEMİREL ÜNİVERSİTESİ HUKUK FAKÜLTESİ DERGİSİ</td>\n",
       "      <td>&lt;a class=\"me-4\" href=\"javascript:openPDF('b987bb4d-d794-4033-a2d4-6e55c9c6363c', '524215');\"&gt; &lt;i class=\"far fa-file me-2\"&gt;&lt;/i&gt;Full Text &lt;/a&gt;</td>\n",
       "      <td>https://search.trdizin.gov.tr/en/yayin/detay/524215/konut-ve-catili-isyeri-kiralarinda-kira-bedelinde-artisa-iliskin-7161-sayili-kanunla-getirilen-degisikliklerin-degerlendirilmesi</td>\n",
       "    </tr>\n",
       "    <tr>\n",
       "      <th>1465</th>\n",
       "      <td>15</td>\n",
       "      <td>İSVİÇRE BORÇLAR VE TİCARET HUKUKUNDA ZAMANAŞIMI REVİZYONU</td>\n",
       "      <td>Ankara Hacı Bayram Veli Üniversitesi Hukuk Fakültesi Dergisi</td>\n",
       "      <td>&lt;a class=\"me-4\" href=\"javascript:openPDF('df6940be-317a-4808-be75-9870f6454161', '375836');\"&gt; &lt;i class=\"far fa-file me-2\"&gt;&lt;/i&gt;Full Text &lt;/a&gt;</td>\n",
       "      <td>https://search.trdizin.gov.tr/en/yayin/detay/375836/isvicre-borclar-ve-ticaret-hukukunda-zamanasimi-revizyonu</td>\n",
       "    </tr>\n",
       "    <tr>\n",
       "      <th>2108</th>\n",
       "      <td>22</td>\n",
       "      <td>AVRUPA BİRLİĞİ KONSEYİ 2016/1104 SAYILI TÜZÜK HÜKÜMLERİ ÇERÇEVESİNDE KAYITLI BİRLİKTELİK KURMUŞ ÇİFTLERİN MALVARLIĞINA UYGULANACAK HUKUK, YETKİLİ MAHKEME ve TANIMA-TENFİZ MESELELERİ</td>\n",
       "      <td>İnönü Üniversitesi Hukuk Fakültesi Dergisi</td>\n",
       "      <td>&lt;a class=\"me-4\" href=\"javascript:openPDF('c9758f82-cbd9-47ca-b72c-b7bee372d784', '277351');\"&gt; &lt;i class=\"far fa-file me-2\"&gt;&lt;/i&gt;Full Text &lt;/a&gt;</td>\n",
       "      <td>https://search.trdizin.gov.tr/en/yayin/detay/277351/avrupa-birligi-konseyi-20161104-sayili-tuzuk-hukumleri-cercevesinde-kayitli-birliktelik-kurmus-ciftlerin-malvarligina-uygulanacak-hukuk-yetkili-mahkeme-ve-tanima-tenfiz-meseleleri</td>\n",
       "    </tr>\n",
       "    <tr>\n",
       "      <th>611</th>\n",
       "      <td>7</td>\n",
       "      <td>‘Çocuk Teslimi ve Çocukla Kişisel İlişki Kurulmasına İlişkin Mahkeme Kararlarının Yerine Getirilmesi: Karşılaştırmalı Hukuk ve 7343 Sayılı Kanun'un Getirdiği Değişiklikler Çerçevesinde Değerlendirmeler'</td>\n",
       "      <td>Ankara Üniversitesi Hukuk Fakültesi Dergisi</td>\n",
       "      <td>&lt;a class=\"me-4\" href=\"javascript:openPDF('339b015b-31a2-43fb-8fbb-f3399885e46f', '1133455');\"&gt; &lt;i class=\"far fa-file me-2\"&gt;&lt;/i&gt;Full Text &lt;/a&gt;</td>\n",
       "      <td>https://search.trdizin.gov.tr/en/yayin/detay/1133455/cocuk-teslimi-ve-cocukla-kisisel-iliski-kurulmasina-iliskin-mahkeme-kararlarinin-yerine-getirilmesi-karsilastirmali-hukuk-ve-7343-sayili-kanunun-getirdigi-degisiklikler-cercevesinde-degerlendirmeler</td>\n",
       "    </tr>\n",
       "  </tbody>\n",
       "</table>\n",
       "</div>"
      ],
      "text/plain": [
       "      Page_Number  \\\n",
       "2724           28   \n",
       "2101           22   \n",
       "2785           28   \n",
       "2963           30   \n",
       "2725           28   \n",
       "857             9   \n",
       "349             4   \n",
       "1465           15   \n",
       "2108           22   \n",
       "611             7   \n",
       "\n",
       "                                                                                                                                                                                                    Article_Name  \\\n",
       "2724                                                           BANGLADEŞMYANMAR DENİZ ALANLARININ SINIRLANDIRILMASI DAVASI IŞIĞINDA ULUSLARARASI DENİZ HUKUKU MAHKEMESİ'NİN KURULUŞUNA İLİŞKİN BİR DEĞERLENDİRME   \n",
       "2101                                                                                                                                                  İDARİ YARGILAMA HUKUKUNDA MAHKEME KARARLARININ AÇIKLANMASI   \n",
       "2785                                                                                                                                             TÜRK BORÇLAR KANUNU VE OLE LANDO İLKELERİ'NDE SÖZLEŞMENİN DEVRİ   \n",
       "2963                                                                                                                AB vatandaşlığının ab içerisinde serbest dolaşım ve ikamet hakkı yönünden temel statü olması   \n",
       "2725                                                                                                                                                                       KARDEŞLER ARASINDA NAFAKA YÜKÜMLÜLÜĞÜ   \n",
       "857                                                                                                                            TÜRK İDARİ YARGI SİSTEMİNDE DAVALARIN\\rBİRLEŞTİRİLMESİ USULÜ ÜZERİNE BİR İNCELEME   \n",
       "349                                                                            KONUT VE ÇATILI İŞYERİ KİRALARINDA KİRA BEDELİNDE ARTIŞA İLİŞKİN 7161 SAYILI KANUN’LA GETİRİLEN DEĞİŞİKLİKLERİN DEĞERLENDİRİLMESİ   \n",
       "1465                                                                                                                                                   İSVİÇRE BORÇLAR VE TİCARET HUKUKUNDA ZAMANAŞIMI REVİZYONU   \n",
       "2108                       AVRUPA BİRLİĞİ KONSEYİ 2016/1104 SAYILI TÜZÜK HÜKÜMLERİ ÇERÇEVESİNDE KAYITLI BİRLİKTELİK KURMUŞ ÇİFTLERİN MALVARLIĞINA UYGULANACAK HUKUK, YETKİLİ MAHKEME ve TANIMA-TENFİZ MESELELERİ   \n",
       "611   ‘Çocuk Teslimi ve Çocukla Kişisel İlişki Kurulmasına İlişkin Mahkeme Kararlarının Yerine Getirilmesi: Karşılaştırmalı Hukuk ve 7343 Sayılı Kanun'un Getirdiği Değişiklikler Çerçevesinde Değerlendirmeler'   \n",
       "\n",
       "                                                   Article_Journal  \\\n",
       "2724                   Ankara Üniversitesi Hukuk Fakültesi Dergisi   \n",
       "2101                   Selçuk Üniversitesi Hukuk Fakültesi Dergisi   \n",
       "2785                    İnönü Üniversitesi Hukuk Fakültesi Dergisi   \n",
       "2963                              Türkiye Adalet Akademisi Dergisi   \n",
       "2725                   Ankara Üniversitesi Hukuk Fakültesi Dergisi   \n",
       "857                   Akdeniz Üniversitesi Hukuk Fakültesi Dergisi   \n",
       "349          SÜLEYMAN DEMİREL ÜNİVERSİTESİ HUKUK FAKÜLTESİ DERGİSİ   \n",
       "1465  Ankara Hacı Bayram Veli Üniversitesi Hukuk Fakültesi Dergisi   \n",
       "2108                    İnönü Üniversitesi Hukuk Fakültesi Dergisi   \n",
       "611                    Ankara Üniversitesi Hukuk Fakültesi Dergisi   \n",
       "\n",
       "                                                                                                                                    Article_PDF_URL  \\\n",
       "2724   <a class=\"me-4\" href=\"javascript:openPDF('fc988d07-84d8-4815-a99a-bbabd99dd9d1', '184328');\"> <i class=\"far fa-file me-2\"></i>Full Text </a>   \n",
       "2101   <a class=\"me-4\" href=\"javascript:openPDF('2e65d56d-8089-403a-b719-6316644c0951', '279722');\"> <i class=\"far fa-file me-2\"></i>Full Text </a>   \n",
       "2785   <a class=\"me-4\" href=\"javascript:openPDF('ba7eaaa9-7013-4739-afab-3823f3664f9e', '240688');\"> <i class=\"far fa-file me-2\"></i>Full Text </a>   \n",
       "2963   <a class=\"me-4\" href=\"javascript:openPDF('bd5fddee-4692-457f-b4f1-0b62ac4c2f42', '158786');\"> <i class=\"far fa-file me-2\"></i>Full Text </a>   \n",
       "2725   <a class=\"me-4\" href=\"javascript:openPDF('ccec7ade-39a5-4ca0-9af9-ce41aa8e2d33', '184290');\"> <i class=\"far fa-file me-2\"></i>Full Text </a>   \n",
       "857    <a class=\"me-4\" href=\"javascript:openPDF('c0480984-a3f4-4423-a9ce-59838cc41573', '509855');\"> <i class=\"far fa-file me-2\"></i>Full Text </a>   \n",
       "349    <a class=\"me-4\" href=\"javascript:openPDF('b987bb4d-d794-4033-a2d4-6e55c9c6363c', '524215');\"> <i class=\"far fa-file me-2\"></i>Full Text </a>   \n",
       "1465   <a class=\"me-4\" href=\"javascript:openPDF('df6940be-317a-4808-be75-9870f6454161', '375836');\"> <i class=\"far fa-file me-2\"></i>Full Text </a>   \n",
       "2108   <a class=\"me-4\" href=\"javascript:openPDF('c9758f82-cbd9-47ca-b72c-b7bee372d784', '277351');\"> <i class=\"far fa-file me-2\"></i>Full Text </a>   \n",
       "611   <a class=\"me-4\" href=\"javascript:openPDF('339b015b-31a2-43fb-8fbb-f3399885e46f', '1133455');\"> <i class=\"far fa-file me-2\"></i>Full Text </a>   \n",
       "\n",
       "                                                                                                                                                                                                                                                   Article_Detail  \n",
       "2724                                                         https://search.trdizin.gov.tr/en/yayin/detay/184328/bangladesmyanmar-deniz-alanlarinin-sinirlandirilmasi-davasi-isiginda-uluslararasi-deniz-hukuku-mahkemesinin-kurulusuna-iliskin-bir-degerlendirme  \n",
       "2101                                                                                                                                               https://search.trdizin.gov.tr/en/yayin/detay/279722/idari-yargilama-hukukunda-mahkeme-kararlarinin-aciklanmasi  \n",
       "2785                                                                                                                                           https://search.trdizin.gov.tr/en/yayin/detay/240688/turk-borclar-kanunu-ve-ole-lando-ilkelerinde-sozlesmenin-devri  \n",
       "2963                                                                                                             https://search.trdizin.gov.tr/en/yayin/detay/158786/ab-vatandasliginin-ab-icerisinde-serbest-dolasim-ve-ikamet-hakki-yonunden-temel-statu-olmasi  \n",
       "2725                                                                                                                                                                    https://search.trdizin.gov.tr/en/yayin/detay/184290/kardesler-arasinda-nafaka-yukumlulugu  \n",
       "857                                                                                                                          https://search.trdizin.gov.tr/en/yayin/detay/509855/turk-idari-yargi-sisteminde-davalarin-birlestirilmesi-usulu-uzerine-bir-inceleme  \n",
       "349                                                                          https://search.trdizin.gov.tr/en/yayin/detay/524215/konut-ve-catili-isyeri-kiralarinda-kira-bedelinde-artisa-iliskin-7161-sayili-kanunla-getirilen-degisikliklerin-degerlendirilmesi  \n",
       "1465                                                                                                                                                https://search.trdizin.gov.tr/en/yayin/detay/375836/isvicre-borclar-ve-ticaret-hukukunda-zamanasimi-revizyonu  \n",
       "2108                      https://search.trdizin.gov.tr/en/yayin/detay/277351/avrupa-birligi-konseyi-20161104-sayili-tuzuk-hukumleri-cercevesinde-kayitli-birliktelik-kurmus-ciftlerin-malvarligina-uygulanacak-hukuk-yetkili-mahkeme-ve-tanima-tenfiz-meseleleri  \n",
       "611   https://search.trdizin.gov.tr/en/yayin/detay/1133455/cocuk-teslimi-ve-cocukla-kisisel-iliski-kurulmasina-iliskin-mahkeme-kararlarinin-yerine-getirilmesi-karsilastirmali-hukuk-ve-7343-sayili-kanunun-getirdigi-degisiklikler-cercevesinde-degerlendirmeler  "
      ]
     },
     "execution_count": 23,
     "metadata": {},
     "output_type": "execute_result"
    }
   ],
   "source": [
    "TRDizin_all.sample(10)"
   ]
  },
  {
   "cell_type": "code",
   "execution_count": 24,
   "id": "3fa9de8c-81e0-4809-9ecc-5583b170c22f",
   "metadata": {},
   "outputs": [
    {
     "name": "stdout",
     "output_type": "stream",
     "text": [
      "<class 'pandas.core.frame.DataFrame'>\n",
      "RangeIndex: 3580 entries, 0 to 3579\n",
      "Data columns (total 5 columns):\n",
      " #   Column           Non-Null Count  Dtype \n",
      "---  ------           --------------  ----- \n",
      " 0   Page_Number      3580 non-null   int64 \n",
      " 1   Article_Name     3580 non-null   object\n",
      " 2   Article_Journal  3580 non-null   object\n",
      " 3   Article_PDF_URL  3580 non-null   object\n",
      " 4   Article_Detail   3580 non-null   object\n",
      "dtypes: int64(1), object(4)\n",
      "memory usage: 140.0+ KB\n"
     ]
    }
   ],
   "source": [
    "TRDizin_all.info()"
   ]
  },
  {
   "cell_type": "code",
   "execution_count": 25,
   "id": "f1bb65c2-d99b-42cd-9461-85549559895b",
   "metadata": {},
   "outputs": [],
   "source": [
    "TRDizin_all = TRDizin_all.dropna(subset = [\"Article_PDF_URL\"])\n",
    "TRDizin_all = TRDizin_all.drop_duplicates(subset = [\"Article_PDF_URL\"])"
   ]
  },
  {
   "cell_type": "code",
   "execution_count": 26,
   "id": "033543e8-8d6f-421b-b332-b7dee134da0d",
   "metadata": {},
   "outputs": [],
   "source": [
    "TRDizin_cleared = TRDizin_all[TRDizin_all.Article_PDF_URL.str.find(\"aria\") == -1]"
   ]
  },
  {
   "cell_type": "code",
   "execution_count": 27,
   "id": "ccfa466a-a4fd-4789-a047-5961517934cf",
   "metadata": {},
   "outputs": [
    {
     "name": "stdout",
     "output_type": "stream",
     "text": [
      "<class 'pandas.core.frame.DataFrame'>\n",
      "Index: 3227 entries, 0 to 3579\n",
      "Data columns (total 5 columns):\n",
      " #   Column           Non-Null Count  Dtype \n",
      "---  ------           --------------  ----- \n",
      " 0   Page_Number      3227 non-null   int64 \n",
      " 1   Article_Name     3227 non-null   object\n",
      " 2   Article_Journal  3227 non-null   object\n",
      " 3   Article_PDF_URL  3227 non-null   object\n",
      " 4   Article_Detail   3227 non-null   object\n",
      "dtypes: int64(1), object(4)\n",
      "memory usage: 151.3+ KB\n"
     ]
    }
   ],
   "source": [
    "TRDizin_cleared.info()"
   ]
  },
  {
   "cell_type": "code",
   "execution_count": 28,
   "id": "b4a903b9-c75e-49ca-9e20-72b989b9e914",
   "metadata": {},
   "outputs": [
    {
     "name": "stderr",
     "output_type": "stream",
     "text": [
      "C:\\Users\\siren\\AppData\\Local\\Temp\\ipykernel_16080\\4049918819.py:1: SettingWithCopyWarning: \n",
      "A value is trying to be set on a copy of a slice from a DataFrame.\n",
      "Try using .loc[row_indexer,col_indexer] = value instead\n",
      "\n",
      "See the caveats in the documentation: https://pandas.pydata.org/pandas-docs/stable/user_guide/indexing.html#returning-a-view-versus-a-copy\n",
      "  TRDizin_cleared[\"Source\"] = \"TRDizin\"\n"
     ]
    }
   ],
   "source": [
    "TRDizin_cleared[\"Source\"] = \"TRDizin\""
   ]
  },
  {
   "cell_type": "code",
   "execution_count": 29,
   "id": "f21c9372-c83b-4035-a6ac-32ff2304245e",
   "metadata": {},
   "outputs": [
    {
     "data": {
      "text/html": [
       "<div>\n",
       "<style scoped>\n",
       "    .dataframe tbody tr th:only-of-type {\n",
       "        vertical-align: middle;\n",
       "    }\n",
       "\n",
       "    .dataframe tbody tr th {\n",
       "        vertical-align: top;\n",
       "    }\n",
       "\n",
       "    .dataframe thead th {\n",
       "        text-align: right;\n",
       "    }\n",
       "</style>\n",
       "<table border=\"1\" class=\"dataframe\">\n",
       "  <thead>\n",
       "    <tr style=\"text-align: right;\">\n",
       "      <th></th>\n",
       "      <th>Page_Number</th>\n",
       "      <th>Article_Name</th>\n",
       "      <th>Article_Journal</th>\n",
       "      <th>Article_PDF_URL</th>\n",
       "      <th>Article_Detail</th>\n",
       "      <th>Source</th>\n",
       "    </tr>\n",
       "  </thead>\n",
       "  <tbody>\n",
       "    <tr>\n",
       "      <th>1416</th>\n",
       "      <td>15</td>\n",
       "      <td>ANONİM ŞİRKET GENEL KURUL KARARININ İPTALİNDE DAVA DİLEKÇESİNİN ISLAHI</td>\n",
       "      <td>İnönü Üniversitesi Hukuk Fakültesi Dergisi</td>\n",
       "      <td>&lt;a class=\"me-4\" href=\"javascript:openPDF('f2f9964d-5598-49eb-8cd5-7526b23b97a9', '393656');\"&gt; &lt;i class=\"far fa-file me-2\"&gt;&lt;/i&gt;Full Text &lt;/a&gt;</td>\n",
       "      <td>https://search.trdizin.gov.tr/en/yayin/detay/393656/anonim-sirket-genel-kurul-kararinin-iptalinde-dava-dilekcesinin-islahi</td>\n",
       "      <td>TRDizin</td>\n",
       "    </tr>\n",
       "    <tr>\n",
       "      <th>1161</th>\n",
       "      <td>12</td>\n",
       "      <td>Amerikan Hukuk Sistemini Yerel Siyaset Üzerinden Okumak</td>\n",
       "      <td>Anadolu Üniversitesi Hukuk Fakültesi Dergisi</td>\n",
       "      <td>&lt;a class=\"me-4\" href=\"javascript:openPDF('5a0c6b0c-03ef-4703-931b-fb2b300c3591', '1055905');\"&gt; &lt;i class=\"far fa-file me-2\"&gt;&lt;/i&gt;Full Text &lt;/a&gt;</td>\n",
       "      <td>https://search.trdizin.gov.tr/en/yayin/detay/1055905/amerikan-hukuk-sistemini-yerel-siyaset-uzerinden-okumak</td>\n",
       "      <td>TRDizin</td>\n",
       "    </tr>\n",
       "    <tr>\n",
       "      <th>1726</th>\n",
       "      <td>18</td>\n",
       "      <td>ANONİM ŞİRKETLERDE PAY SAHİPLERİNİN TASFİYE PAYI ALMA HAKKI*</td>\n",
       "      <td>Ankara Hacı Bayram Veli Üniversitesi Hukuk Fakültesi Dergisi</td>\n",
       "      <td>&lt;a class=\"me-4\" href=\"javascript:openPDF('c4775ada-9320-4c82-96a1-d668181d937a', '317148');\"&gt; &lt;i class=\"far fa-file me-2\"&gt;&lt;/i&gt;Full Text &lt;/a&gt;</td>\n",
       "      <td>https://search.trdizin.gov.tr/en/yayin/detay/317148/anonim-sirketlerde-pay-sahiplerinin-tasfiye-payi-alma-hakki</td>\n",
       "      <td>TRDizin</td>\n",
       "    </tr>\n",
       "  </tbody>\n",
       "</table>\n",
       "</div>"
      ],
      "text/plain": [
       "      Page_Number  \\\n",
       "1416           15   \n",
       "1161           12   \n",
       "1726           18   \n",
       "\n",
       "                                                                Article_Name  \\\n",
       "1416  ANONİM ŞİRKET GENEL KURUL KARARININ İPTALİNDE DAVA DİLEKÇESİNİN ISLAHI   \n",
       "1161                 Amerikan Hukuk Sistemini Yerel Siyaset Üzerinden Okumak   \n",
       "1726            ANONİM ŞİRKETLERDE PAY SAHİPLERİNİN TASFİYE PAYI ALMA HAKKI*   \n",
       "\n",
       "                                                   Article_Journal  \\\n",
       "1416                    İnönü Üniversitesi Hukuk Fakültesi Dergisi   \n",
       "1161                  Anadolu Üniversitesi Hukuk Fakültesi Dergisi   \n",
       "1726  Ankara Hacı Bayram Veli Üniversitesi Hukuk Fakültesi Dergisi   \n",
       "\n",
       "                                                                                                                                    Article_PDF_URL  \\\n",
       "1416   <a class=\"me-4\" href=\"javascript:openPDF('f2f9964d-5598-49eb-8cd5-7526b23b97a9', '393656');\"> <i class=\"far fa-file me-2\"></i>Full Text </a>   \n",
       "1161  <a class=\"me-4\" href=\"javascript:openPDF('5a0c6b0c-03ef-4703-931b-fb2b300c3591', '1055905');\"> <i class=\"far fa-file me-2\"></i>Full Text </a>   \n",
       "1726   <a class=\"me-4\" href=\"javascript:openPDF('c4775ada-9320-4c82-96a1-d668181d937a', '317148');\"> <i class=\"far fa-file me-2\"></i>Full Text </a>   \n",
       "\n",
       "                                                                                                                  Article_Detail  \\\n",
       "1416  https://search.trdizin.gov.tr/en/yayin/detay/393656/anonim-sirket-genel-kurul-kararinin-iptalinde-dava-dilekcesinin-islahi   \n",
       "1161                https://search.trdizin.gov.tr/en/yayin/detay/1055905/amerikan-hukuk-sistemini-yerel-siyaset-uzerinden-okumak   \n",
       "1726             https://search.trdizin.gov.tr/en/yayin/detay/317148/anonim-sirketlerde-pay-sahiplerinin-tasfiye-payi-alma-hakki   \n",
       "\n",
       "       Source  \n",
       "1416  TRDizin  \n",
       "1161  TRDizin  \n",
       "1726  TRDizin  "
      ]
     },
     "execution_count": 29,
     "metadata": {},
     "output_type": "execute_result"
    }
   ],
   "source": [
    "TRDizin_cleared.sample(3)"
   ]
  },
  {
   "cell_type": "code",
   "execution_count": 30,
   "id": "c0d61b03-36ea-483f-a720-a0add0e629d8",
   "metadata": {},
   "outputs": [],
   "source": [
    "# Concat TRDizin and DergiPark"
   ]
  },
  {
   "cell_type": "code",
   "execution_count": 31,
   "id": "75880b35-c54f-4e12-bd3b-b2852623a5e3",
   "metadata": {},
   "outputs": [
    {
     "data": {
      "text/plain": [
       "Index(['Page_Number', 'Searching', 'Article_Name', 'Article_Journal',\n",
       "       'Article_Volume', 'Article_PDF_URL', 'Source'],\n",
       "      dtype='object')"
      ]
     },
     "execution_count": 31,
     "metadata": {},
     "output_type": "execute_result"
    }
   ],
   "source": [
    "DP_cleared.columns"
   ]
  },
  {
   "cell_type": "code",
   "execution_count": 32,
   "id": "2f9047e5-594b-495e-8826-282a8934a02d",
   "metadata": {},
   "outputs": [
    {
     "data": {
      "text/plain": [
       "Index(['Page_Number', 'Article_Name', 'Article_Journal', 'Article_PDF_URL',\n",
       "       'Article_Detail', 'Source'],\n",
       "      dtype='object')"
      ]
     },
     "execution_count": 32,
     "metadata": {},
     "output_type": "execute_result"
    }
   ],
   "source": [
    "TRDizin_cleared.columns"
   ]
  },
  {
   "cell_type": "code",
   "execution_count": 33,
   "id": "4b7b52cd-2008-4053-b7e6-e5acd97eb8f0",
   "metadata": {},
   "outputs": [],
   "source": [
    "all_sources = pd.concat([DP_cleared, TRDizin_cleared])"
   ]
  },
  {
   "cell_type": "code",
   "execution_count": 34,
   "id": "b528a75a-67fc-4a08-96ac-ae28c1a72f45",
   "metadata": {},
   "outputs": [
    {
     "name": "stdout",
     "output_type": "stream",
     "text": [
      "<class 'pandas.core.frame.DataFrame'>\n",
      "Index: 18173 entries, 0 to 3579\n",
      "Data columns (total 8 columns):\n",
      " #   Column           Non-Null Count  Dtype \n",
      "---  ------           --------------  ----- \n",
      " 0   Page_Number      18173 non-null  int64 \n",
      " 1   Searching        14946 non-null  object\n",
      " 2   Article_Name     18173 non-null  object\n",
      " 3   Article_Journal  18173 non-null  object\n",
      " 4   Article_Volume   14903 non-null  object\n",
      " 5   Article_PDF_URL  18173 non-null  object\n",
      " 6   Source           18173 non-null  object\n",
      " 7   Article_Detail   3227 non-null   object\n",
      "dtypes: int64(1), object(7)\n",
      "memory usage: 1.2+ MB\n"
     ]
    }
   ],
   "source": [
    "all_sources.info()"
   ]
  },
  {
   "cell_type": "code",
   "execution_count": 35,
   "id": "aebb85d3-982a-421d-9498-6e7ad5d62ce1",
   "metadata": {},
   "outputs": [],
   "source": [
    "all_sources.Article_Name = all_sources.Article_Name.str.lower()"
   ]
  },
  {
   "cell_type": "code",
   "execution_count": 36,
   "id": "4fc6e1d3-7d92-4713-9ad0-cdc596aa7318",
   "metadata": {},
   "outputs": [],
   "source": [
    "all_sources.reset_index(drop = True, inplace = True)"
   ]
  },
  {
   "cell_type": "code",
   "execution_count": 37,
   "id": "1ba3dac0-5605-4a2a-a2f5-4b7db3bfa34f",
   "metadata": {},
   "outputs": [],
   "source": [
    "# Look at duplicated"
   ]
  },
  {
   "cell_type": "code",
   "execution_count": 38,
   "id": "dd63a634-19ce-4280-8fad-422f467c259e",
   "metadata": {
    "scrolled": true
   },
   "outputs": [
    {
     "data": {
      "text/plain": [
       "1584"
      ]
     },
     "execution_count": 38,
     "metadata": {},
     "output_type": "execute_result"
    }
   ],
   "source": [
    "(all_sources.duplicated(subset = [\"Article_Name\"])).sum() # Check it is different sources"
   ]
  },
  {
   "cell_type": "code",
   "execution_count": 39,
   "id": "3a92852c-f9d1-4cb0-95fc-2c8de1ad9e44",
   "metadata": {
    "scrolled": true
   },
   "outputs": [],
   "source": [
    "duplicated = all_sources[all_sources.duplicated(subset = [\"Article_Name\"],keep = False)].sort_values(\"Article_Name\")"
   ]
  },
  {
   "cell_type": "code",
   "execution_count": 40,
   "id": "fc020f2a-6c96-4e69-b592-f6765b759de7",
   "metadata": {},
   "outputs": [
    {
     "data": {
      "text/html": [
       "<div>\n",
       "<style scoped>\n",
       "    .dataframe tbody tr th:only-of-type {\n",
       "        vertical-align: middle;\n",
       "    }\n",
       "\n",
       "    .dataframe tbody tr th {\n",
       "        vertical-align: top;\n",
       "    }\n",
       "\n",
       "    .dataframe thead th {\n",
       "        text-align: right;\n",
       "    }\n",
       "</style>\n",
       "<table border=\"1\" class=\"dataframe\">\n",
       "  <thead>\n",
       "    <tr style=\"text-align: right;\">\n",
       "      <th></th>\n",
       "      <th>Page_Number</th>\n",
       "      <th>Searching</th>\n",
       "      <th>Article_Name</th>\n",
       "      <th>Article_Journal</th>\n",
       "      <th>Article_Volume</th>\n",
       "      <th>Article_PDF_URL</th>\n",
       "      <th>Source</th>\n",
       "      <th>Article_Detail</th>\n",
       "    </tr>\n",
       "  </thead>\n",
       "  <tbody>\n",
       "    <tr>\n",
       "      <th>15012</th>\n",
       "      <td>1</td>\n",
       "      <td>NaN</td>\n",
       "      <td>(birinci ve i̇kinci) cumhuriyetin korunmasına dair kanun</td>\n",
       "      <td>Türk-Alman Üniversitesi Hukuk Fakültesi Dergisi</td>\n",
       "      <td>NaN</td>\n",
       "      <td>&lt;a class=\"me-4\" href=\"javascript:openPDF('123c85f5-9d8c-476c-a78b-d9510c50ef49', '1217528');\"&gt; &lt;i class=\"far fa-file me-2\"&gt;&lt;/i&gt;Full Text &lt;/a&gt;</td>\n",
       "      <td>TRDizin</td>\n",
       "      <td>https://search.trdizin.gov.tr/en/yayin/detay/1217528/birinci-ve-ikinci-cumhuriyetin-korunmasina-dair-kanun</td>\n",
       "    </tr>\n",
       "    <tr>\n",
       "      <th>9264</th>\n",
       "      <td>253</td>\n",
       "      <td>Hukuk</td>\n",
       "      <td>(birinci ve i̇kinci) cumhuriyetin korunmasına dair kanun</td>\n",
       "      <td>Türk-Alman Üniversitesi Hukuk Fakültesi Dergisi</td>\n",
       "      <td>Cilt: 5 Sayı: 2</td>\n",
       "      <td>https://dergipark.org.tr/tr/download/article-file/3627685</td>\n",
       "      <td>DergiPark</td>\n",
       "      <td>NaN</td>\n",
       "    </tr>\n",
       "    <tr>\n",
       "      <th>11687</th>\n",
       "      <td>371</td>\n",
       "      <td>Hukuk</td>\n",
       "      <td>.</td>\n",
       "      <td>İstanbul Üniversitesi Hukuk Fakültesi Mecmuası</td>\n",
       "      <td>Cilt: 73 Sayı: 2</td>\n",
       "      <td>https://dergipark.org.tr/tr/download/article-file/230756</td>\n",
       "      <td>DergiPark</td>\n",
       "      <td>NaN</td>\n",
       "    </tr>\n",
       "    <tr>\n",
       "      <th>12311</th>\n",
       "      <td>400</td>\n",
       "      <td>Hukuk</td>\n",
       "      <td>.</td>\n",
       "      <td>İstanbul Üniversitesi Hukuk Fakültesi Mecmuası</td>\n",
       "      <td>Cilt: 74 Sayı: 1</td>\n",
       "      <td>https://dergipark.org.tr/tr/download/article-file/292227</td>\n",
       "      <td>DergiPark</td>\n",
       "      <td>NaN</td>\n",
       "    </tr>\n",
       "    <tr>\n",
       "      <th>15166</th>\n",
       "      <td>3</td>\n",
       "      <td>NaN</td>\n",
       "      <td>01.01.2020 tarihli i̇sviçre zamanaşımı hukuku revizyonu kapsamında i̇sviçre borçlar kanunu’nda haksız fiil ve sözleşme sorumluluğu zamanaşımı (özellikle ölüm ve bedensel zararlarda maddi ve manevi tazminat talepleri) (i̇sviçre borçlar kanunu (or) m. 60 ve or m. 128a)</td>\n",
       "      <td>Marmara Üniversitesi Hukuk Fakültesi Hukuk Araştırmaları Dergisi</td>\n",
       "      <td>NaN</td>\n",
       "      <td>&lt;a class=\"me-4\" href=\"javascript:openPDF('ae75d41e-c14b-406f-9194-0d5ecd0b7dd4', '1191205');\"&gt; &lt;i class=\"far fa-file me-2\"&gt;&lt;/i&gt;Full Text &lt;/a&gt;</td>\n",
       "      <td>TRDizin</td>\n",
       "      <td>https://search.trdizin.gov.tr/en/yayin/detay/1191205/01012020-tarihli-isvicre-zamanasimi-hukuku-revizyonu-kapsaminda-isvicre-borclar-kanununda-haksiz-fiil-ve-sozlesme-sorumlulugu-zamanasimi-ozellikle-olum-ve-bedensel-zararlarda-maddi-ve-manevi-tazminat-talepleri-isvicre-borclar-kanunu-or-m-60-ve-or-m-128a</td>\n",
       "    </tr>\n",
       "    <tr>\n",
       "      <th>5476</th>\n",
       "      <td>71</td>\n",
       "      <td>Hukuk</td>\n",
       "      <td>01.01.2020 tarihli i̇sviçre zamanaşımı hukuku revizyonu kapsamında i̇sviçre borçlar kanunu’nda haksız fiil ve sözleşme sorumluluğu zamanaşımı (özellikle ölüm ve bedensel zararlarda maddi ve manevi tazminat talepleri) (i̇sviçre borçlar kanunu (or) m. 60 ve or m. 128a)</td>\n",
       "      <td>Marmara Üniversitesi Hukuk Fakültesi Hukuk Araştırmaları Dergisi</td>\n",
       "      <td>Cilt: 29 Sayı: 1</td>\n",
       "      <td>https://dergipark.org.tr/tr/download/article-file/2964312</td>\n",
       "      <td>DergiPark</td>\n",
       "      <td>NaN</td>\n",
       "    </tr>\n",
       "    <tr>\n",
       "      <th>16092</th>\n",
       "      <td>12</td>\n",
       "      <td>NaN</td>\n",
       "      <td>19. ve 20. yüzyilda osmanli hukuk si̇stemi̇ni̇n irak’ta uygulanmasi</td>\n",
       "      <td>Yıldırım Beyazıt Hukuk Dergisi</td>\n",
       "      <td>NaN</td>\n",
       "      <td>&lt;a class=\"me-4\" href=\"javascript:openPDF('33150b34-ed30-405a-a811-02d49fa209c8', '1114967');\"&gt; &lt;i class=\"far fa-file me-2\"&gt;&lt;/i&gt;Full Text &lt;/a&gt;</td>\n",
       "      <td>TRDizin</td>\n",
       "      <td>https://search.trdizin.gov.tr/en/yayin/detay/1114967/19-ve-20-yuzyilda-osmanli-hukuk-sisteminin-irakta-uygulanmasi</td>\n",
       "    </tr>\n",
       "    <tr>\n",
       "      <th>4639</th>\n",
       "      <td>30</td>\n",
       "      <td>Hukuk</td>\n",
       "      <td>19. ve 20. yüzyilda osmanli hukuk si̇stemi̇ni̇n irak’ta uygulanmasi</td>\n",
       "      <td>Yıldırım Beyazıt Hukuk Dergisi</td>\n",
       "      <td>Sayı: 1</td>\n",
       "      <td>https://dergipark.org.tr/tr/download/article-file/1097440</td>\n",
       "      <td>DergiPark</td>\n",
       "      <td>NaN</td>\n",
       "    </tr>\n",
       "  </tbody>\n",
       "</table>\n",
       "</div>"
      ],
      "text/plain": [
       "       Page_Number Searching  \\\n",
       "15012            1       NaN   \n",
       "9264           253     Hukuk   \n",
       "11687          371     Hukuk   \n",
       "12311          400     Hukuk   \n",
       "15166            3       NaN   \n",
       "5476            71     Hukuk   \n",
       "16092           12       NaN   \n",
       "4639            30     Hukuk   \n",
       "\n",
       "                                                                                                                                                                                                                                                                      Article_Name  \\\n",
       "15012                                                                                                                                                                                                                     (birinci ve i̇kinci) cumhuriyetin korunmasına dair kanun   \n",
       "9264                                                                                                                                                                                                                      (birinci ve i̇kinci) cumhuriyetin korunmasına dair kanun   \n",
       "11687                                                                                                                                                                                                                                                                            .   \n",
       "12311                                                                                                                                                                                                                                                                            .   \n",
       "15166  01.01.2020 tarihli i̇sviçre zamanaşımı hukuku revizyonu kapsamında i̇sviçre borçlar kanunu’nda haksız fiil ve sözleşme sorumluluğu zamanaşımı (özellikle ölüm ve bedensel zararlarda maddi ve manevi tazminat talepleri) (i̇sviçre borçlar kanunu (or) m. 60 ve or m. 128a)   \n",
       "5476   01.01.2020 tarihli i̇sviçre zamanaşımı hukuku revizyonu kapsamında i̇sviçre borçlar kanunu’nda haksız fiil ve sözleşme sorumluluğu zamanaşımı (özellikle ölüm ve bedensel zararlarda maddi ve manevi tazminat talepleri) (i̇sviçre borçlar kanunu (or) m. 60 ve or m. 128a)   \n",
       "16092                                                                                                                                                                                                          19. ve 20. yüzyilda osmanli hukuk si̇stemi̇ni̇n irak’ta uygulanmasi   \n",
       "4639                                                                                                                                                                                                           19. ve 20. yüzyilda osmanli hukuk si̇stemi̇ni̇n irak’ta uygulanmasi   \n",
       "\n",
       "                                                        Article_Journal  \\\n",
       "15012                   Türk-Alman Üniversitesi Hukuk Fakültesi Dergisi   \n",
       "9264                    Türk-Alman Üniversitesi Hukuk Fakültesi Dergisi   \n",
       "11687                    İstanbul Üniversitesi Hukuk Fakültesi Mecmuası   \n",
       "12311                    İstanbul Üniversitesi Hukuk Fakültesi Mecmuası   \n",
       "15166  Marmara Üniversitesi Hukuk Fakültesi Hukuk Araştırmaları Dergisi   \n",
       "5476   Marmara Üniversitesi Hukuk Fakültesi Hukuk Araştırmaları Dergisi   \n",
       "16092                                    Yıldırım Beyazıt Hukuk Dergisi   \n",
       "4639                                     Yıldırım Beyazıt Hukuk Dergisi   \n",
       "\n",
       "         Article_Volume  \\\n",
       "15012               NaN   \n",
       "9264    Cilt: 5 Sayı: 2   \n",
       "11687  Cilt: 73 Sayı: 2   \n",
       "12311  Cilt: 74 Sayı: 1   \n",
       "15166               NaN   \n",
       "5476   Cilt: 29 Sayı: 1   \n",
       "16092               NaN   \n",
       "4639            Sayı: 1   \n",
       "\n",
       "                                                                                                                                     Article_PDF_URL  \\\n",
       "15012  <a class=\"me-4\" href=\"javascript:openPDF('123c85f5-9d8c-476c-a78b-d9510c50ef49', '1217528');\"> <i class=\"far fa-file me-2\"></i>Full Text </a>   \n",
       "9264                                                                                       https://dergipark.org.tr/tr/download/article-file/3627685   \n",
       "11687                                                                                       https://dergipark.org.tr/tr/download/article-file/230756   \n",
       "12311                                                                                       https://dergipark.org.tr/tr/download/article-file/292227   \n",
       "15166  <a class=\"me-4\" href=\"javascript:openPDF('ae75d41e-c14b-406f-9194-0d5ecd0b7dd4', '1191205');\"> <i class=\"far fa-file me-2\"></i>Full Text </a>   \n",
       "5476                                                                                       https://dergipark.org.tr/tr/download/article-file/2964312   \n",
       "16092  <a class=\"me-4\" href=\"javascript:openPDF('33150b34-ed30-405a-a811-02d49fa209c8', '1114967');\"> <i class=\"far fa-file me-2\"></i>Full Text </a>   \n",
       "4639                                                                                       https://dergipark.org.tr/tr/download/article-file/1097440   \n",
       "\n",
       "          Source  \\\n",
       "15012    TRDizin   \n",
       "9264   DergiPark   \n",
       "11687  DergiPark   \n",
       "12311  DergiPark   \n",
       "15166    TRDizin   \n",
       "5476   DergiPark   \n",
       "16092    TRDizin   \n",
       "4639   DergiPark   \n",
       "\n",
       "                                                                                                                                                                                                                                                                                                           Article_Detail  \n",
       "15012                                                                                                                                                                                                          https://search.trdizin.gov.tr/en/yayin/detay/1217528/birinci-ve-ikinci-cumhuriyetin-korunmasina-dair-kanun  \n",
       "9264                                                                                                                                                                                                                                                                                                                  NaN  \n",
       "11687                                                                                                                                                                                                                                                                                                                 NaN  \n",
       "12311                                                                                                                                                                                                                                                                                                                 NaN  \n",
       "15166  https://search.trdizin.gov.tr/en/yayin/detay/1191205/01012020-tarihli-isvicre-zamanasimi-hukuku-revizyonu-kapsaminda-isvicre-borclar-kanununda-haksiz-fiil-ve-sozlesme-sorumlulugu-zamanasimi-ozellikle-olum-ve-bedensel-zararlarda-maddi-ve-manevi-tazminat-talepleri-isvicre-borclar-kanunu-or-m-60-ve-or-m-128a  \n",
       "5476                                                                                                                                                                                                                                                                                                                  NaN  \n",
       "16092                                                                                                                                                                                                  https://search.trdizin.gov.tr/en/yayin/detay/1114967/19-ve-20-yuzyilda-osmanli-hukuk-sisteminin-irakta-uygulanmasi  \n",
       "4639                                                                                                                                                                                                                                                                                                                  NaN  "
      ]
     },
     "execution_count": 40,
     "metadata": {},
     "output_type": "execute_result"
    }
   ],
   "source": [
    "duplicated.head(8)"
   ]
  },
  {
   "cell_type": "code",
   "execution_count": 41,
   "id": "66bfe65d-aa31-47f2-a67f-b9d29beaa651",
   "metadata": {},
   "outputs": [],
   "source": [
    "dupİndexTR = duplicated[duplicated.Source == \"TRDizin\"].index"
   ]
  },
  {
   "cell_type": "code",
   "execution_count": 42,
   "id": "067221d5-d732-4752-afca-94d6ccf2b9d9",
   "metadata": {},
   "outputs": [
    {
     "data": {
      "text/plain": [
       "Index([15012, 15166, 16092, 15200, 15276, 15609, 16946, 16334, 15871, 17213,\n",
       "       ...\n",
       "       15577, 16399, 17055, 15128, 16160, 15557, 15296, 15510, 16679, 15002],\n",
       "      dtype='int64', length=1362)"
      ]
     },
     "execution_count": 42,
     "metadata": {},
     "output_type": "execute_result"
    }
   ],
   "source": [
    "dupİndexTR"
   ]
  },
  {
   "cell_type": "code",
   "execution_count": 43,
   "id": "c73b1a0f-48fc-4c1d-917b-113a70e981b5",
   "metadata": {},
   "outputs": [],
   "source": [
    "all_sources_cleared = all_sources.drop(index = dupİndexTR)"
   ]
  },
  {
   "cell_type": "code",
   "execution_count": 44,
   "id": "18709ac7-34ed-4b4e-8847-157815eff182",
   "metadata": {
    "scrolled": true
   },
   "outputs": [],
   "source": [
    "all_sources_cleared.reset_index(drop = True, inplace = True)"
   ]
  },
  {
   "cell_type": "code",
   "execution_count": 45,
   "id": "4b881178-a98a-44ea-a601-76e42f9e4c60",
   "metadata": {
    "scrolled": true
   },
   "outputs": [
    {
     "name": "stdout",
     "output_type": "stream",
     "text": [
      "<class 'pandas.core.frame.DataFrame'>\n",
      "RangeIndex: 16811 entries, 0 to 16810\n",
      "Data columns (total 8 columns):\n",
      " #   Column           Non-Null Count  Dtype \n",
      "---  ------           --------------  ----- \n",
      " 0   Page_Number      16811 non-null  int64 \n",
      " 1   Searching        14946 non-null  object\n",
      " 2   Article_Name     16811 non-null  object\n",
      " 3   Article_Journal  16811 non-null  object\n",
      " 4   Article_Volume   14903 non-null  object\n",
      " 5   Article_PDF_URL  16811 non-null  object\n",
      " 6   Source           16811 non-null  object\n",
      " 7   Article_Detail   1865 non-null   object\n",
      "dtypes: int64(1), object(7)\n",
      "memory usage: 1.0+ MB\n"
     ]
    }
   ],
   "source": [
    "all_sources_cleared.info()"
   ]
  },
  {
   "cell_type": "code",
   "execution_count": 46,
   "id": "cc055664-78d5-42f9-ae24-f2f8262a5e6d",
   "metadata": {},
   "outputs": [],
   "source": [
    "all_vCount = all_sources_cleared.Article_Journal.value_counts()"
   ]
  },
  {
   "cell_type": "code",
   "execution_count": 47,
   "id": "2e7bdf67-9c9d-4dcd-9896-97aac07e4459",
   "metadata": {},
   "outputs": [
    {
     "data": {
      "text/plain": [
       "Article_Journal\n",
       "Batı Anadolu Eğitim Bilimleri Dergisi                                 5\n",
       "Organizasyon ve Yönetim Bilimleri Dergisi                             5\n",
       "Kırklareli Üniversitesi Hukuk Fakültesi Dergisi                       5\n",
       "Birey ve Toplum Sosyal Bilimler Dergisi                               5\n",
       "Finans Ekonomi ve Sosyal Araştırmalar Dergisi                         5\n",
       "darulfunun ilahiyat                                                   5\n",
       "İlahiyat Tetkikleri Dergisi                                           5\n",
       "Finans Politik ve Ekonomik Yorumlar                                   5\n",
       "Kişisel Verileri Koruma Dergisi                                       5\n",
       "Balıkesir İlahiyat Dergisi                                            5\n",
       "Trabzon İlahiyat Dergisi                                              5\n",
       "Aydın İnsan ve Toplum Dergisi                                         5\n",
       "Sakarya University Journal of Education                               5\n",
       "Bayburt Üniversitesi İlahiyat Fakültesi Dergisi                       5\n",
       "Dokuz Eylül Üniversitesi İktisadi İdari Bilimler Fakültesi Dergisi    5\n",
       "BELLETEN                                                              5\n",
       "Türkiye Klinikleri Tıp Etiği-Hukuku Tarihi Dergisi                    2\n",
       "Erzincan Binali Yıldırım Üniversitesi Hukuk Fakültesi dergisi         2\n",
       "Sakarya Hukuk Dergisi (SHD)                                           2\n",
       "Usul İslam Araştırmaları                                              1\n",
       "Name: count, dtype: int64"
      ]
     },
     "execution_count": 47,
     "metadata": {},
     "output_type": "execute_result"
    }
   ],
   "source": [
    "all_vCount.tail(20)"
   ]
  },
  {
   "cell_type": "code",
   "execution_count": 48,
   "id": "7d0713a2-6d26-473e-a992-eefd473b583f",
   "metadata": {
    "scrolled": true
   },
   "outputs": [],
   "source": [
    "drop_less = all_vCount[all_vCount < 12].index"
   ]
  },
  {
   "cell_type": "code",
   "execution_count": 49,
   "id": "db5d35a0-a20d-453e-9e1a-ce22e1c86523",
   "metadata": {},
   "outputs": [
    {
     "data": {
      "text/plain": [
       "Index(['Ankara Üniversitesi Dil ve Tarih-Coğrafya Fakültesi Dergisi',\n",
       "       'Akademik Hassasiyetler',\n",
       "       'Çukurova Üniversitesi Sosyal Bilimler Enstitüsü Dergisi',\n",
       "       'Süleyman Demirel Üniversitesi İlahiyat Fakültesi Dergisi',\n",
       "       'Süleyman Demirel Üniversitesi Sosyal Bilimler Enstitüsü Dergisi',\n",
       "       'Bingöl Üniversitesi Sosyal Bilimler Enstitüsü Dergisi',\n",
       "       'Erzincan Üniversitesi Sosyal Bilimler Enstitüsü Dergisi',\n",
       "       'Tasavvur / Tekirdağ İlahiyat Dergisi', 'İnsan Hakları Yıllığı',\n",
       "       'Katre Uluslararası İnsan Araştırmaları Dergisi',\n",
       "       ...\n",
       "       'Trabzon İlahiyat Dergisi', 'Aydın İnsan ve Toplum Dergisi',\n",
       "       'Sakarya University Journal of Education',\n",
       "       'Bayburt Üniversitesi İlahiyat Fakültesi Dergisi',\n",
       "       'Dokuz Eylül Üniversitesi İktisadi İdari Bilimler Fakültesi Dergisi',\n",
       "       'BELLETEN', 'Türkiye Klinikleri Tıp Etiği-Hukuku Tarihi Dergisi',\n",
       "       'Erzincan Binali Yıldırım Üniversitesi Hukuk Fakültesi dergisi',\n",
       "       'Sakarya Hukuk Dergisi (SHD)', 'Usul İslam Araştırmaları'],\n",
       "      dtype='object', name='Article_Journal', length=279)"
      ]
     },
     "execution_count": 49,
     "metadata": {},
     "output_type": "execute_result"
    }
   ],
   "source": [
    "drop_less"
   ]
  },
  {
   "cell_type": "code",
   "execution_count": 50,
   "id": "9b70c20b-6d0a-43c6-bda9-4df57465e8a7",
   "metadata": {
    "scrolled": true
   },
   "outputs": [],
   "source": [
    "all_sources_cleared = all_sources_cleared[~all_sources_cleared[\"Article_Journal\"].isin(drop_less)]"
   ]
  },
  {
   "cell_type": "code",
   "execution_count": 51,
   "id": "0db1af8b-25d2-4276-bbb5-874a78e63e9a",
   "metadata": {
    "scrolled": true
   },
   "outputs": [
    {
     "name": "stdout",
     "output_type": "stream",
     "text": [
      "<class 'pandas.core.frame.DataFrame'>\n",
      "Index: 14804 entries, 0 to 16805\n",
      "Data columns (total 8 columns):\n",
      " #   Column           Non-Null Count  Dtype \n",
      "---  ------           --------------  ----- \n",
      " 0   Page_Number      14804 non-null  int64 \n",
      " 1   Searching        12985 non-null  object\n",
      " 2   Article_Name     14804 non-null  object\n",
      " 3   Article_Journal  14804 non-null  object\n",
      " 4   Article_Volume   12948 non-null  object\n",
      " 5   Article_PDF_URL  14804 non-null  object\n",
      " 6   Source           14804 non-null  object\n",
      " 7   Article_Detail   1819 non-null   object\n",
      "dtypes: int64(1), object(7)\n",
      "memory usage: 1.0+ MB\n"
     ]
    }
   ],
   "source": [
    "all_sources_cleared.info()"
   ]
  },
  {
   "cell_type": "code",
   "execution_count": 52,
   "id": "887eda54-f27f-4105-a52b-639e2a805e50",
   "metadata": {},
   "outputs": [],
   "source": [
    "# Is it turkish"
   ]
  },
  {
   "cell_type": "code",
   "execution_count": 53,
   "id": "ff729bad-04e8-4bcc-82cf-f0004fcf8aaa",
   "metadata": {},
   "outputs": [],
   "source": [
    "from langdetect import detect"
   ]
  },
  {
   "cell_type": "code",
   "execution_count": 54,
   "id": "c6df6564-65bb-42d6-8a59-ea837a22c83d",
   "metadata": {},
   "outputs": [],
   "source": [
    "def is_not_specific_languages(sentence):\n",
    "    try:\n",
    "        detected_lang = detect(sentence)\n",
    "\n",
    "        return detected_lang not in ['en', 'fr', 'ar', 'fa']\n",
    "    except:\n",
    "        return False"
   ]
  },
  {
   "cell_type": "code",
   "execution_count": 55,
   "id": "5fa053a3-b966-44e5-ac9d-eab8ff438e1f",
   "metadata": {},
   "outputs": [],
   "source": [
    "all_sources_cleared = all_sources_cleared[all_sources_cleared['Article_Journal'].apply(is_not_specific_languages)]"
   ]
  },
  {
   "cell_type": "code",
   "execution_count": 56,
   "id": "463549ca-c97f-46fc-a2ca-d450137015ee",
   "metadata": {},
   "outputs": [
    {
     "name": "stdout",
     "output_type": "stream",
     "text": [
      "<class 'pandas.core.frame.DataFrame'>\n",
      "Index: 14759 entries, 0 to 16805\n",
      "Data columns (total 8 columns):\n",
      " #   Column           Non-Null Count  Dtype \n",
      "---  ------           --------------  ----- \n",
      " 0   Page_Number      14759 non-null  int64 \n",
      " 1   Searching        12940 non-null  object\n",
      " 2   Article_Name     14759 non-null  object\n",
      " 3   Article_Journal  14759 non-null  object\n",
      " 4   Article_Volume   12903 non-null  object\n",
      " 5   Article_PDF_URL  14759 non-null  object\n",
      " 6   Source           14759 non-null  object\n",
      " 7   Article_Detail   1819 non-null   object\n",
      "dtypes: int64(1), object(7)\n",
      "memory usage: 1.0+ MB\n"
     ]
    }
   ],
   "source": [
    "all_sources_cleared.info()"
   ]
  },
  {
   "cell_type": "code",
   "execution_count": 57,
   "id": "89d519e0-ba15-45ba-b17f-c5ac46c915f7",
   "metadata": {},
   "outputs": [],
   "source": [
    "all_sources_cleared.reset_index(drop = True, inplace = True)"
   ]
  },
  {
   "cell_type": "code",
   "execution_count": 58,
   "id": "be7a544a-0336-4fce-a1a8-59b514651b53",
   "metadata": {},
   "outputs": [],
   "source": [
    "all_jr = all_sources_cleared.Article_Journal.value_counts()"
   ]
  },
  {
   "cell_type": "code",
   "execution_count": 65,
   "id": "af9c1b76-765a-431d-98ac-b34d55442b26",
   "metadata": {},
   "outputs": [],
   "source": [
    "all_jr.to_excel(\"all_found.xlsx\",index = True)"
   ]
  },
  {
   "cell_type": "code",
   "execution_count": 63,
   "id": "d9e17d85-e67e-4069-9b79-5fa7279bc32d",
   "metadata": {},
   "outputs": [],
   "source": [
    "all_sources_cleared.to_csv(\"TRDizin_DergiPark.csv\",index = False)"
   ]
  },
  {
   "cell_type": "code",
   "execution_count": null,
   "id": "5edbbc54-61f7-440b-bbc5-245db5cc0494",
   "metadata": {},
   "outputs": [],
   "source": []
  }
 ],
 "metadata": {
  "kernelspec": {
   "display_name": "Python 3 (ipykernel)",
   "language": "python",
   "name": "python3"
  },
  "language_info": {
   "codemirror_mode": {
    "name": "ipython",
    "version": 3
   },
   "file_extension": ".py",
   "mimetype": "text/x-python",
   "name": "python",
   "nbconvert_exporter": "python",
   "pygments_lexer": "ipython3",
   "version": "3.9.19"
  }
 },
 "nbformat": 4,
 "nbformat_minor": 5
}
